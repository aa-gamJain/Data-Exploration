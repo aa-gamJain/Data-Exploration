{
 "cells": [
  {
   "cell_type": "code",
   "execution_count": 1,
   "metadata": {
    "collapsed": true
   },
   "outputs": [],
   "source": [
    "import numpy as np\n",
    "import pandas as pd\n",
    "from pandas import Series,DataFrame"
   ]
  },
  {
   "cell_type": "code",
   "execution_count": 2,
   "metadata": {
    "collapsed": false
   },
   "outputs": [
    {
     "data": {
      "text/html": [
       "<div>\n",
       "<table border=\"1\" class=\"dataframe\">\n",
       "  <thead>\n",
       "    <tr style=\"text-align: right;\">\n",
       "      <th></th>\n",
       "      <th>data1</th>\n",
       "      <th>data2</th>\n",
       "      <th>key1</th>\n",
       "      <th>key2</th>\n",
       "    </tr>\n",
       "  </thead>\n",
       "  <tbody>\n",
       "    <tr>\n",
       "      <th>0</th>\n",
       "      <td>-3.914073</td>\n",
       "      <td>0.344360</td>\n",
       "      <td>a</td>\n",
       "      <td>one</td>\n",
       "    </tr>\n",
       "    <tr>\n",
       "      <th>1</th>\n",
       "      <td>-0.971174</td>\n",
       "      <td>1.988775</td>\n",
       "      <td>a</td>\n",
       "      <td>two</td>\n",
       "    </tr>\n",
       "    <tr>\n",
       "      <th>2</th>\n",
       "      <td>0.231237</td>\n",
       "      <td>-0.509933</td>\n",
       "      <td>b</td>\n",
       "      <td>one</td>\n",
       "    </tr>\n",
       "    <tr>\n",
       "      <th>3</th>\n",
       "      <td>0.454886</td>\n",
       "      <td>1.160261</td>\n",
       "      <td>b</td>\n",
       "      <td>two</td>\n",
       "    </tr>\n",
       "    <tr>\n",
       "      <th>4</th>\n",
       "      <td>-0.239871</td>\n",
       "      <td>-0.177851</td>\n",
       "      <td>a</td>\n",
       "      <td>one</td>\n",
       "    </tr>\n",
       "  </tbody>\n",
       "</table>\n",
       "</div>"
      ],
      "text/plain": [
       "      data1     data2 key1 key2\n",
       "0 -3.914073  0.344360    a  one\n",
       "1 -0.971174  1.988775    a  two\n",
       "2  0.231237 -0.509933    b  one\n",
       "3  0.454886  1.160261    b  two\n",
       "4 -0.239871 -0.177851    a  one"
      ]
     },
     "execution_count": 2,
     "metadata": {},
     "output_type": "execute_result"
    }
   ],
   "source": [
    "df = DataFrame({'key1' : ['a', 'a', 'b', 'b', 'a'],'key2' : ['one', 'two', 'one', 'two', 'one'],\n",
    "                'data1' : np.random.randn(5),'data2' : np.random.randn(5)})\n",
    "df"
   ]
  },
  {
   "cell_type": "code",
   "execution_count": 3,
   "metadata": {
    "collapsed": false
   },
   "outputs": [
    {
     "data": {
      "text/plain": [
       "<pandas.core.groupby.SeriesGroupBy object at 0x00000000071AC5F8>"
      ]
     },
     "execution_count": 3,
     "metadata": {},
     "output_type": "execute_result"
    }
   ],
   "source": [
    "grouped=df['data1'].groupby(df['key1'])\n",
    "grouped"
   ]
  },
  {
   "cell_type": "code",
   "execution_count": 4,
   "metadata": {
    "collapsed": false
   },
   "outputs": [
    {
     "data": {
      "text/plain": [
       "key1\n",
       "a   -1.708373\n",
       "b    0.343061\n",
       "Name: data1, dtype: float64"
      ]
     },
     "execution_count": 4,
     "metadata": {},
     "output_type": "execute_result"
    }
   ],
   "source": [
    "grouped.mean()"
   ]
  },
  {
   "cell_type": "code",
   "execution_count": 8,
   "metadata": {
    "collapsed": false
   },
   "outputs": [
    {
     "data": {
      "text/plain": [
       "key1  key2\n",
       "a     one    -2.076972\n",
       "      two    -0.971174\n",
       "b     one     0.231237\n",
       "      two     0.454886\n",
       "Name: data1, dtype: float64"
      ]
     },
     "execution_count": 8,
     "metadata": {},
     "output_type": "execute_result"
    }
   ],
   "source": [
    "means = df['data1'].groupby([df['key1'], df['key2']]).mean()\n",
    "means"
   ]
  },
  {
   "cell_type": "code",
   "execution_count": 9,
   "metadata": {
    "collapsed": false
   },
   "outputs": [
    {
     "data": {
      "text/html": [
       "<div>\n",
       "<table border=\"1\" class=\"dataframe\">\n",
       "  <thead>\n",
       "    <tr style=\"text-align: right;\">\n",
       "      <th>key2</th>\n",
       "      <th>one</th>\n",
       "      <th>two</th>\n",
       "    </tr>\n",
       "    <tr>\n",
       "      <th>key1</th>\n",
       "      <th></th>\n",
       "      <th></th>\n",
       "    </tr>\n",
       "  </thead>\n",
       "  <tbody>\n",
       "    <tr>\n",
       "      <th>a</th>\n",
       "      <td>-2.076972</td>\n",
       "      <td>-0.971174</td>\n",
       "    </tr>\n",
       "    <tr>\n",
       "      <th>b</th>\n",
       "      <td>0.231237</td>\n",
       "      <td>0.454886</td>\n",
       "    </tr>\n",
       "  </tbody>\n",
       "</table>\n",
       "</div>"
      ],
      "text/plain": [
       "key2       one       two\n",
       "key1                    \n",
       "a    -2.076972 -0.971174\n",
       "b     0.231237  0.454886"
      ]
     },
     "execution_count": 9,
     "metadata": {},
     "output_type": "execute_result"
    }
   ],
   "source": [
    "means.unstack()"
   ]
  },
  {
   "cell_type": "code",
   "execution_count": 10,
   "metadata": {
    "collapsed": false
   },
   "outputs": [
    {
     "data": {
      "text/plain": [
       "key1  key2\n",
       "a     one     2\n",
       "      two     1\n",
       "b     one     1\n",
       "      two     1\n",
       "dtype: int64"
      ]
     },
     "execution_count": 10,
     "metadata": {},
     "output_type": "execute_result"
    }
   ],
   "source": [
    "df.groupby(['key1', 'key2']).size()"
   ]
  },
  {
   "cell_type": "code",
   "execution_count": 12,
   "metadata": {
    "collapsed": false
   },
   "outputs": [],
   "source": [
    "t=df.groupby('key1')['data1']"
   ]
  },
  {
   "cell_type": "code",
   "execution_count": 14,
   "metadata": {
    "collapsed": false
   },
   "outputs": [
    {
     "data": {
      "text/plain": [
       "key1\n",
       "a   -1.708373\n",
       "b    0.343061\n",
       "Name: data1, dtype: float64"
      ]
     },
     "execution_count": 14,
     "metadata": {},
     "output_type": "execute_result"
    }
   ],
   "source": [
    "t.mean()"
   ]
  },
  {
   "cell_type": "code",
   "execution_count": 15,
   "metadata": {
    "collapsed": false
   },
   "outputs": [
    {
     "data": {
      "text/plain": [
       "key1\n",
       "a   -1.708373\n",
       "b    0.343061\n",
       "Name: data1, dtype: float64"
      ]
     },
     "execution_count": 15,
     "metadata": {},
     "output_type": "execute_result"
    }
   ],
   "source": [
    "df['data1'].groupby(df['key1']).mean()"
   ]
  },
  {
   "cell_type": "code",
   "execution_count": 16,
   "metadata": {
    "collapsed": false
   },
   "outputs": [
    {
     "data": {
      "text/plain": [
       "key1       \n",
       "a     count    3.000000\n",
       "      mean    -1.708373\n",
       "      std      1.944874\n",
       "      min     -3.914073\n",
       "      25%     -2.442624\n",
       "      50%     -0.971174\n",
       "      75%     -0.605523\n",
       "      max     -0.239871\n",
       "b     count    2.000000\n",
       "      mean     0.343061\n",
       "      std      0.158143\n",
       "      min      0.231237\n",
       "      25%      0.287149\n",
       "      50%      0.343061\n",
       "      75%      0.398973\n",
       "      max      0.454886\n",
       "dtype: float64"
      ]
     },
     "execution_count": 16,
     "metadata": {},
     "output_type": "execute_result"
    }
   ],
   "source": [
    "grouped.describe()"
   ]
  },
  {
   "cell_type": "code",
   "execution_count": 17,
   "metadata": {
    "collapsed": false
   },
   "outputs": [
    {
     "data": {
      "text/plain": [
       "key1\n",
       "a   -1.708373\n",
       "b    0.343061\n",
       "Name: data1, dtype: float64"
      ]
     },
     "execution_count": 17,
     "metadata": {},
     "output_type": "execute_result"
    }
   ],
   "source": [
    "grouped.agg('mean')"
   ]
  },
  {
   "cell_type": "code",
   "execution_count": 20,
   "metadata": {
    "collapsed": false
   },
   "outputs": [
    {
     "data": {
      "text/html": [
       "<div>\n",
       "<table border=\"1\" class=\"dataframe\">\n",
       "  <thead>\n",
       "    <tr style=\"text-align: right;\">\n",
       "      <th></th>\n",
       "      <th>mean</th>\n",
       "      <th>std</th>\n",
       "      <th>max</th>\n",
       "    </tr>\n",
       "    <tr>\n",
       "      <th>key1</th>\n",
       "      <th></th>\n",
       "      <th></th>\n",
       "      <th></th>\n",
       "    </tr>\n",
       "  </thead>\n",
       "  <tbody>\n",
       "    <tr>\n",
       "      <th>a</th>\n",
       "      <td>-1.708373</td>\n",
       "      <td>1.944874</td>\n",
       "      <td>-0.239871</td>\n",
       "    </tr>\n",
       "    <tr>\n",
       "      <th>b</th>\n",
       "      <td>0.343061</td>\n",
       "      <td>0.158143</td>\n",
       "      <td>0.454886</td>\n",
       "    </tr>\n",
       "  </tbody>\n",
       "</table>\n",
       "</div>"
      ],
      "text/plain": [
       "          mean       std       max\n",
       "key1                              \n",
       "a    -1.708373  1.944874 -0.239871\n",
       "b     0.343061  0.158143  0.454886"
      ]
     },
     "execution_count": 20,
     "metadata": {},
     "output_type": "execute_result"
    }
   ],
   "source": [
    "grouped.agg(['mean', 'std', 'max'])"
   ]
  },
  {
   "cell_type": "code",
   "execution_count": 21,
   "metadata": {
    "collapsed": false
   },
   "outputs": [
    {
     "data": {
      "text/html": [
       "<div>\n",
       "<table border=\"1\" class=\"dataframe\">\n",
       "  <thead>\n",
       "    <tr style=\"text-align: right;\">\n",
       "      <th></th>\n",
       "      <th></th>\n",
       "      <th>describe</th>\n",
       "    </tr>\n",
       "    <tr>\n",
       "      <th>key1</th>\n",
       "      <th></th>\n",
       "      <th></th>\n",
       "    </tr>\n",
       "  </thead>\n",
       "  <tbody>\n",
       "    <tr>\n",
       "      <th rowspan=\"8\" valign=\"top\">a</th>\n",
       "      <th>count</th>\n",
       "      <td>3.000000</td>\n",
       "    </tr>\n",
       "    <tr>\n",
       "      <th>mean</th>\n",
       "      <td>-1.708373</td>\n",
       "    </tr>\n",
       "    <tr>\n",
       "      <th>std</th>\n",
       "      <td>1.944874</td>\n",
       "    </tr>\n",
       "    <tr>\n",
       "      <th>min</th>\n",
       "      <td>-3.914073</td>\n",
       "    </tr>\n",
       "    <tr>\n",
       "      <th>25%</th>\n",
       "      <td>-2.442624</td>\n",
       "    </tr>\n",
       "    <tr>\n",
       "      <th>50%</th>\n",
       "      <td>-0.971174</td>\n",
       "    </tr>\n",
       "    <tr>\n",
       "      <th>75%</th>\n",
       "      <td>-0.605523</td>\n",
       "    </tr>\n",
       "    <tr>\n",
       "      <th>max</th>\n",
       "      <td>-0.239871</td>\n",
       "    </tr>\n",
       "    <tr>\n",
       "      <th rowspan=\"8\" valign=\"top\">b</th>\n",
       "      <th>count</th>\n",
       "      <td>2.000000</td>\n",
       "    </tr>\n",
       "    <tr>\n",
       "      <th>mean</th>\n",
       "      <td>0.343061</td>\n",
       "    </tr>\n",
       "    <tr>\n",
       "      <th>std</th>\n",
       "      <td>0.158143</td>\n",
       "    </tr>\n",
       "    <tr>\n",
       "      <th>min</th>\n",
       "      <td>0.231237</td>\n",
       "    </tr>\n",
       "    <tr>\n",
       "      <th>25%</th>\n",
       "      <td>0.287149</td>\n",
       "    </tr>\n",
       "    <tr>\n",
       "      <th>50%</th>\n",
       "      <td>0.343061</td>\n",
       "    </tr>\n",
       "    <tr>\n",
       "      <th>75%</th>\n",
       "      <td>0.398973</td>\n",
       "    </tr>\n",
       "    <tr>\n",
       "      <th>max</th>\n",
       "      <td>0.454886</td>\n",
       "    </tr>\n",
       "  </tbody>\n",
       "</table>\n",
       "</div>"
      ],
      "text/plain": [
       "            describe\n",
       "key1                \n",
       "a    count  3.000000\n",
       "     mean  -1.708373\n",
       "     std    1.944874\n",
       "     min   -3.914073\n",
       "     25%   -2.442624\n",
       "     50%   -0.971174\n",
       "     75%   -0.605523\n",
       "     max   -0.239871\n",
       "b    count  2.000000\n",
       "     mean   0.343061\n",
       "     std    0.158143\n",
       "     min    0.231237\n",
       "     25%    0.287149\n",
       "     50%    0.343061\n",
       "     75%    0.398973\n",
       "     max    0.454886"
      ]
     },
     "execution_count": 21,
     "metadata": {},
     "output_type": "execute_result"
    }
   ],
   "source": [
    "grouped.agg(['describe'])"
   ]
  },
  {
   "cell_type": "code",
   "execution_count": 22,
   "metadata": {
    "collapsed": false
   },
   "outputs": [
    {
     "data": {
      "text/html": [
       "<div>\n",
       "<table border=\"1\" class=\"dataframe\">\n",
       "  <thead>\n",
       "    <tr style=\"text-align: right;\">\n",
       "      <th></th>\n",
       "      <th>data1</th>\n",
       "      <th>data2</th>\n",
       "      <th>key1</th>\n",
       "      <th>key2</th>\n",
       "    </tr>\n",
       "  </thead>\n",
       "  <tbody>\n",
       "    <tr>\n",
       "      <th>0</th>\n",
       "      <td>-3.914073</td>\n",
       "      <td>0.344360</td>\n",
       "      <td>a</td>\n",
       "      <td>one</td>\n",
       "    </tr>\n",
       "    <tr>\n",
       "      <th>1</th>\n",
       "      <td>-0.971174</td>\n",
       "      <td>1.988775</td>\n",
       "      <td>a</td>\n",
       "      <td>two</td>\n",
       "    </tr>\n",
       "    <tr>\n",
       "      <th>2</th>\n",
       "      <td>0.231237</td>\n",
       "      <td>-0.509933</td>\n",
       "      <td>b</td>\n",
       "      <td>one</td>\n",
       "    </tr>\n",
       "    <tr>\n",
       "      <th>3</th>\n",
       "      <td>0.454886</td>\n",
       "      <td>1.160261</td>\n",
       "      <td>b</td>\n",
       "      <td>two</td>\n",
       "    </tr>\n",
       "    <tr>\n",
       "      <th>4</th>\n",
       "      <td>-0.239871</td>\n",
       "      <td>-0.177851</td>\n",
       "      <td>a</td>\n",
       "      <td>one</td>\n",
       "    </tr>\n",
       "  </tbody>\n",
       "</table>\n",
       "</div>"
      ],
      "text/plain": [
       "      data1     data2 key1 key2\n",
       "0 -3.914073  0.344360    a  one\n",
       "1 -0.971174  1.988775    a  two\n",
       "2  0.231237 -0.509933    b  one\n",
       "3  0.454886  1.160261    b  two\n",
       "4 -0.239871 -0.177851    a  one"
      ]
     },
     "execution_count": 22,
     "metadata": {},
     "output_type": "execute_result"
    }
   ],
   "source": [
    "df"
   ]
  },
  {
   "cell_type": "code",
   "execution_count": 23,
   "metadata": {
    "collapsed": false
   },
   "outputs": [
    {
     "data": {
      "text/html": [
       "<div>\n",
       "<table border=\"1\" class=\"dataframe\">\n",
       "  <thead>\n",
       "    <tr style=\"text-align: right;\">\n",
       "      <th></th>\n",
       "      <th>mean_data1</th>\n",
       "      <th>mean_data2</th>\n",
       "    </tr>\n",
       "    <tr>\n",
       "      <th>key1</th>\n",
       "      <th></th>\n",
       "      <th></th>\n",
       "    </tr>\n",
       "  </thead>\n",
       "  <tbody>\n",
       "    <tr>\n",
       "      <th>a</th>\n",
       "      <td>-1.708373</td>\n",
       "      <td>0.718428</td>\n",
       "    </tr>\n",
       "    <tr>\n",
       "      <th>b</th>\n",
       "      <td>0.343061</td>\n",
       "      <td>0.325164</td>\n",
       "    </tr>\n",
       "  </tbody>\n",
       "</table>\n",
       "</div>"
      ],
      "text/plain": [
       "      mean_data1  mean_data2\n",
       "key1                        \n",
       "a      -1.708373    0.718428\n",
       "b       0.343061    0.325164"
      ]
     },
     "execution_count": 23,
     "metadata": {},
     "output_type": "execute_result"
    }
   ],
   "source": [
    "k1_means = df.groupby('key1').mean().add_prefix('mean_')\n",
    "k1_means"
   ]
  },
  {
   "cell_type": "code",
   "execution_count": 24,
   "metadata": {
    "collapsed": false
   },
   "outputs": [
    {
     "data": {
      "text/html": [
       "<div>\n",
       "<table border=\"1\" class=\"dataframe\">\n",
       "  <thead>\n",
       "    <tr style=\"text-align: right;\">\n",
       "      <th></th>\n",
       "      <th>data1</th>\n",
       "      <th>data2</th>\n",
       "      <th>key1</th>\n",
       "      <th>key2</th>\n",
       "      <th>mean_data1</th>\n",
       "      <th>mean_data2</th>\n",
       "    </tr>\n",
       "  </thead>\n",
       "  <tbody>\n",
       "    <tr>\n",
       "      <th>0</th>\n",
       "      <td>-3.914073</td>\n",
       "      <td>0.344360</td>\n",
       "      <td>a</td>\n",
       "      <td>one</td>\n",
       "      <td>-1.708373</td>\n",
       "      <td>0.718428</td>\n",
       "    </tr>\n",
       "    <tr>\n",
       "      <th>1</th>\n",
       "      <td>-0.971174</td>\n",
       "      <td>1.988775</td>\n",
       "      <td>a</td>\n",
       "      <td>two</td>\n",
       "      <td>-1.708373</td>\n",
       "      <td>0.718428</td>\n",
       "    </tr>\n",
       "    <tr>\n",
       "      <th>4</th>\n",
       "      <td>-0.239871</td>\n",
       "      <td>-0.177851</td>\n",
       "      <td>a</td>\n",
       "      <td>one</td>\n",
       "      <td>-1.708373</td>\n",
       "      <td>0.718428</td>\n",
       "    </tr>\n",
       "    <tr>\n",
       "      <th>2</th>\n",
       "      <td>0.231237</td>\n",
       "      <td>-0.509933</td>\n",
       "      <td>b</td>\n",
       "      <td>one</td>\n",
       "      <td>0.343061</td>\n",
       "      <td>0.325164</td>\n",
       "    </tr>\n",
       "    <tr>\n",
       "      <th>3</th>\n",
       "      <td>0.454886</td>\n",
       "      <td>1.160261</td>\n",
       "      <td>b</td>\n",
       "      <td>two</td>\n",
       "      <td>0.343061</td>\n",
       "      <td>0.325164</td>\n",
       "    </tr>\n",
       "  </tbody>\n",
       "</table>\n",
       "</div>"
      ],
      "text/plain": [
       "      data1     data2 key1 key2  mean_data1  mean_data2\n",
       "0 -3.914073  0.344360    a  one   -1.708373    0.718428\n",
       "1 -0.971174  1.988775    a  two   -1.708373    0.718428\n",
       "4 -0.239871 -0.177851    a  one   -1.708373    0.718428\n",
       "2  0.231237 -0.509933    b  one    0.343061    0.325164\n",
       "3  0.454886  1.160261    b  two    0.343061    0.325164"
      ]
     },
     "execution_count": 24,
     "metadata": {},
     "output_type": "execute_result"
    }
   ],
   "source": [
    "pd.merge(df, k1_means, left_on='key1', right_index=True)"
   ]
  },
  {
   "cell_type": "code",
   "execution_count": 25,
   "metadata": {
    "collapsed": true
   },
   "outputs": [],
   "source": [
    "frame = DataFrame({'data1': np.random.randn(1000),'data2': np.random.randn(1000)})"
   ]
  },
  {
   "cell_type": "code",
   "execution_count": 26,
   "metadata": {
    "collapsed": false
   },
   "outputs": [
    {
     "data": {
      "text/plain": [
       "0       (-0.455, 1.32]\n",
       "1     (-2.229, -0.455]\n",
       "2       (1.32, 3.0948]\n",
       "3       (-0.455, 1.32]\n",
       "4       (-0.455, 1.32]\n",
       "5       (-0.455, 1.32]\n",
       "6       (-0.455, 1.32]\n",
       "7       (-0.455, 1.32]\n",
       "8     (-2.229, -0.455]\n",
       "9    (-4.0112, -2.229]\n",
       "Name: data1, dtype: category\n",
       "Categories (4, object): [(-4.0112, -2.229] < (-2.229, -0.455] < (-0.455, 1.32] < (1.32, 3.0948]]"
      ]
     },
     "execution_count": 26,
     "metadata": {},
     "output_type": "execute_result"
    }
   ],
   "source": [
    "factor = pd.cut(frame.data1, 4)\n",
    "factor[:10]"
   ]
  },
  {
   "cell_type": "code",
   "execution_count": 27,
   "metadata": {
    "collapsed": false
   },
   "outputs": [
    {
     "data": {
      "text/plain": [
       "count    1000.000000\n",
       "mean        0.042367\n",
       "std         1.002592\n",
       "min        -4.004110\n",
       "25%        -0.630515\n",
       "50%         0.023937\n",
       "75%         0.745373\n",
       "max         3.094844\n",
       "Name: data1, dtype: float64"
      ]
     },
     "execution_count": 27,
     "metadata": {},
     "output_type": "execute_result"
    }
   ],
   "source": [
    "frame.data1.describe()"
   ]
  },
  {
   "cell_type": "code",
   "execution_count": 28,
   "metadata": {
    "collapsed": true
   },
   "outputs": [],
   "source": [
    "def get_stats(group):\n",
    "    return {'min': group.min(), 'max': group.max(),'count': group.count(), 'mean': group.mean()}"
   ]
  },
  {
   "cell_type": "code",
   "execution_count": 29,
   "metadata": {
    "collapsed": true
   },
   "outputs": [],
   "source": [
    "grouped = frame.data2.groupby(factor)"
   ]
  },
  {
   "cell_type": "code",
   "execution_count": 31,
   "metadata": {
    "collapsed": false
   },
   "outputs": [
    {
     "data": {
      "text/html": [
       "<div>\n",
       "<table border=\"1\" class=\"dataframe\">\n",
       "  <thead>\n",
       "    <tr style=\"text-align: right;\">\n",
       "      <th></th>\n",
       "      <th>count</th>\n",
       "      <th>max</th>\n",
       "      <th>mean</th>\n",
       "      <th>min</th>\n",
       "    </tr>\n",
       "    <tr>\n",
       "      <th>data1</th>\n",
       "      <th></th>\n",
       "      <th></th>\n",
       "      <th></th>\n",
       "      <th></th>\n",
       "    </tr>\n",
       "  </thead>\n",
       "  <tbody>\n",
       "    <tr>\n",
       "      <th>(-4.0112, -2.229]</th>\n",
       "      <td>11.0</td>\n",
       "      <td>1.122289</td>\n",
       "      <td>-0.387583</td>\n",
       "      <td>-1.415678</td>\n",
       "    </tr>\n",
       "    <tr>\n",
       "      <th>(-2.229, -0.455]</th>\n",
       "      <td>303.0</td>\n",
       "      <td>2.712844</td>\n",
       "      <td>0.063024</td>\n",
       "      <td>-3.327077</td>\n",
       "    </tr>\n",
       "    <tr>\n",
       "      <th>(-0.455, 1.32]</th>\n",
       "      <td>583.0</td>\n",
       "      <td>2.973440</td>\n",
       "      <td>-0.081851</td>\n",
       "      <td>-3.325392</td>\n",
       "    </tr>\n",
       "    <tr>\n",
       "      <th>(1.32, 3.0948]</th>\n",
       "      <td>103.0</td>\n",
       "      <td>2.641430</td>\n",
       "      <td>0.108685</td>\n",
       "      <td>-2.484897</td>\n",
       "    </tr>\n",
       "  </tbody>\n",
       "</table>\n",
       "</div>"
      ],
      "text/plain": [
       "                   count       max      mean       min\n",
       "data1                                                 \n",
       "(-4.0112, -2.229]   11.0  1.122289 -0.387583 -1.415678\n",
       "(-2.229, -0.455]   303.0  2.712844  0.063024 -3.327077\n",
       "(-0.455, 1.32]     583.0  2.973440 -0.081851 -3.325392\n",
       "(1.32, 3.0948]     103.0  2.641430  0.108685 -2.484897"
      ]
     },
     "execution_count": 31,
     "metadata": {},
     "output_type": "execute_result"
    }
   ],
   "source": [
    "grouped.apply(get_stats).unstack()"
   ]
  },
  {
   "cell_type": "code",
   "execution_count": 33,
   "metadata": {
    "collapsed": false
   },
   "outputs": [
    {
     "data": {
      "text/plain": [
       "count               1000\n",
       "unique                 4\n",
       "top       (-0.455, 1.32]\n",
       "freq                 583\n",
       "Name: data1, dtype: object"
      ]
     },
     "execution_count": 33,
     "metadata": {},
     "output_type": "execute_result"
    }
   ],
   "source": [
    "factor.describe()"
   ]
  },
  {
   "cell_type": "code",
   "execution_count": 35,
   "metadata": {
    "collapsed": false
   },
   "outputs": [
    {
     "data": {
      "text/plain": [
       "0      6\n",
       "1      2\n",
       "2      9\n",
       "3      3\n",
       "4      7\n",
       "5      7\n",
       "6      5\n",
       "7      4\n",
       "8      1\n",
       "9      0\n",
       "10     7\n",
       "11     8\n",
       "12     0\n",
       "13     5\n",
       "14     9\n",
       "15     5\n",
       "16     7\n",
       "17     0\n",
       "18     7\n",
       "19     0\n",
       "20     7\n",
       "21     6\n",
       "22     4\n",
       "23     6\n",
       "24     2\n",
       "25     5\n",
       "26     5\n",
       "27     1\n",
       "28     9\n",
       "29     1\n",
       "      ..\n",
       "970    6\n",
       "971    1\n",
       "972    3\n",
       "973    2\n",
       "974    1\n",
       "975    2\n",
       "976    6\n",
       "977    8\n",
       "978    4\n",
       "979    6\n",
       "980    3\n",
       "981    5\n",
       "982    6\n",
       "983    3\n",
       "984    3\n",
       "985    9\n",
       "986    9\n",
       "987    7\n",
       "988    9\n",
       "989    9\n",
       "990    0\n",
       "991    4\n",
       "992    3\n",
       "993    8\n",
       "994    7\n",
       "995    6\n",
       "996    1\n",
       "997    3\n",
       "998    8\n",
       "999    7\n",
       "Name: data1, dtype: int64"
      ]
     },
     "execution_count": 35,
     "metadata": {},
     "output_type": "execute_result"
    }
   ],
   "source": [
    "grouping = pd.qcut(frame.data1, 10, labels=False)\n",
    "grouping"
   ]
  },
  {
   "cell_type": "code",
   "execution_count": 36,
   "metadata": {
    "collapsed": false
   },
   "outputs": [
    {
     "data": {
      "text/plain": [
       "<pandas.core.groupby.SeriesGroupBy object at 0x00000000081EC278>"
      ]
     },
     "execution_count": 36,
     "metadata": {},
     "output_type": "execute_result"
    }
   ],
   "source": [
    "grouped = frame.data2.groupby(grouping)\n",
    "grouped"
   ]
  },
  {
   "cell_type": "code",
   "execution_count": 37,
   "metadata": {
    "collapsed": false
   },
   "outputs": [
    {
     "data": {
      "text/html": [
       "<div>\n",
       "<table border=\"1\" class=\"dataframe\">\n",
       "  <thead>\n",
       "    <tr style=\"text-align: right;\">\n",
       "      <th></th>\n",
       "      <th>count</th>\n",
       "      <th>max</th>\n",
       "      <th>mean</th>\n",
       "      <th>min</th>\n",
       "    </tr>\n",
       "    <tr>\n",
       "      <th>data1</th>\n",
       "      <th></th>\n",
       "      <th></th>\n",
       "      <th></th>\n",
       "      <th></th>\n",
       "    </tr>\n",
       "  </thead>\n",
       "  <tbody>\n",
       "    <tr>\n",
       "      <th>0</th>\n",
       "      <td>100.0</td>\n",
       "      <td>2.680461</td>\n",
       "      <td>-0.000299</td>\n",
       "      <td>-3.327077</td>\n",
       "    </tr>\n",
       "    <tr>\n",
       "      <th>1</th>\n",
       "      <td>100.0</td>\n",
       "      <td>2.552359</td>\n",
       "      <td>0.115165</td>\n",
       "      <td>-2.728303</td>\n",
       "    </tr>\n",
       "    <tr>\n",
       "      <th>2</th>\n",
       "      <td>100.0</td>\n",
       "      <td>2.324308</td>\n",
       "      <td>0.014939</td>\n",
       "      <td>-2.554425</td>\n",
       "    </tr>\n",
       "    <tr>\n",
       "      <th>3</th>\n",
       "      <td>100.0</td>\n",
       "      <td>2.973440</td>\n",
       "      <td>0.021062</td>\n",
       "      <td>-2.642074</td>\n",
       "    </tr>\n",
       "    <tr>\n",
       "      <th>4</th>\n",
       "      <td>100.0</td>\n",
       "      <td>2.919927</td>\n",
       "      <td>-0.093214</td>\n",
       "      <td>-2.552394</td>\n",
       "    </tr>\n",
       "    <tr>\n",
       "      <th>5</th>\n",
       "      <td>100.0</td>\n",
       "      <td>2.879876</td>\n",
       "      <td>-0.091679</td>\n",
       "      <td>-3.325392</td>\n",
       "    </tr>\n",
       "    <tr>\n",
       "      <th>6</th>\n",
       "      <td>100.0</td>\n",
       "      <td>2.268464</td>\n",
       "      <td>-0.142868</td>\n",
       "      <td>-2.451826</td>\n",
       "    </tr>\n",
       "    <tr>\n",
       "      <th>7</th>\n",
       "      <td>100.0</td>\n",
       "      <td>2.414165</td>\n",
       "      <td>-0.094693</td>\n",
       "      <td>-1.826911</td>\n",
       "    </tr>\n",
       "    <tr>\n",
       "      <th>8</th>\n",
       "      <td>100.0</td>\n",
       "      <td>2.132254</td>\n",
       "      <td>-0.040519</td>\n",
       "      <td>-2.572362</td>\n",
       "    </tr>\n",
       "    <tr>\n",
       "      <th>9</th>\n",
       "      <td>100.0</td>\n",
       "      <td>2.641430</td>\n",
       "      <td>0.095187</td>\n",
       "      <td>-2.484897</td>\n",
       "    </tr>\n",
       "  </tbody>\n",
       "</table>\n",
       "</div>"
      ],
      "text/plain": [
       "       count       max      mean       min\n",
       "data1                                     \n",
       "0      100.0  2.680461 -0.000299 -3.327077\n",
       "1      100.0  2.552359  0.115165 -2.728303\n",
       "2      100.0  2.324308  0.014939 -2.554425\n",
       "3      100.0  2.973440  0.021062 -2.642074\n",
       "4      100.0  2.919927 -0.093214 -2.552394\n",
       "5      100.0  2.879876 -0.091679 -3.325392\n",
       "6      100.0  2.268464 -0.142868 -2.451826\n",
       "7      100.0  2.414165 -0.094693 -1.826911\n",
       "8      100.0  2.132254 -0.040519 -2.572362\n",
       "9      100.0  2.641430  0.095187 -2.484897"
      ]
     },
     "execution_count": 37,
     "metadata": {},
     "output_type": "execute_result"
    }
   ],
   "source": [
    "grouped.apply(get_stats).unstack()\n",
    "# divide into 100-100 groups and take their max,mean,min"
   ]
  },
  {
   "cell_type": "code",
   "execution_count": 38,
   "metadata": {
    "collapsed": false
   },
   "outputs": [
    {
     "data": {
      "text/html": [
       "<div>\n",
       "<table border=\"1\" class=\"dataframe\">\n",
       "  <thead>\n",
       "    <tr style=\"text-align: right;\">\n",
       "      <th></th>\n",
       "      <th>count</th>\n",
       "      <th>max</th>\n",
       "      <th>mean</th>\n",
       "      <th>min</th>\n",
       "    </tr>\n",
       "    <tr>\n",
       "      <th>data1</th>\n",
       "      <th></th>\n",
       "      <th></th>\n",
       "      <th></th>\n",
       "      <th></th>\n",
       "    </tr>\n",
       "  </thead>\n",
       "  <tbody>\n",
       "    <tr>\n",
       "      <th>[-4.00411, -1.226]</th>\n",
       "      <td>100.0</td>\n",
       "      <td>2.680461</td>\n",
       "      <td>-0.000299</td>\n",
       "      <td>-3.327077</td>\n",
       "    </tr>\n",
       "    <tr>\n",
       "      <th>(-1.226, -0.819]</th>\n",
       "      <td>100.0</td>\n",
       "      <td>2.552359</td>\n",
       "      <td>0.115165</td>\n",
       "      <td>-2.728303</td>\n",
       "    </tr>\n",
       "    <tr>\n",
       "      <th>(-0.819, -0.497]</th>\n",
       "      <td>100.0</td>\n",
       "      <td>2.324308</td>\n",
       "      <td>0.014939</td>\n",
       "      <td>-2.554425</td>\n",
       "    </tr>\n",
       "    <tr>\n",
       "      <th>(-0.497, -0.244]</th>\n",
       "      <td>100.0</td>\n",
       "      <td>2.973440</td>\n",
       "      <td>0.021062</td>\n",
       "      <td>-2.642074</td>\n",
       "    </tr>\n",
       "    <tr>\n",
       "      <th>(-0.244, 0.0239]</th>\n",
       "      <td>100.0</td>\n",
       "      <td>2.919927</td>\n",
       "      <td>-0.093214</td>\n",
       "      <td>-2.552394</td>\n",
       "    </tr>\n",
       "    <tr>\n",
       "      <th>(0.0239, 0.29]</th>\n",
       "      <td>100.0</td>\n",
       "      <td>2.879876</td>\n",
       "      <td>-0.091679</td>\n",
       "      <td>-3.325392</td>\n",
       "    </tr>\n",
       "    <tr>\n",
       "      <th>(0.29, 0.556]</th>\n",
       "      <td>100.0</td>\n",
       "      <td>2.268464</td>\n",
       "      <td>-0.142868</td>\n",
       "      <td>-2.451826</td>\n",
       "    </tr>\n",
       "    <tr>\n",
       "      <th>(0.556, 0.923]</th>\n",
       "      <td>100.0</td>\n",
       "      <td>2.414165</td>\n",
       "      <td>-0.094693</td>\n",
       "      <td>-1.826911</td>\n",
       "    </tr>\n",
       "    <tr>\n",
       "      <th>(0.923, 1.326]</th>\n",
       "      <td>100.0</td>\n",
       "      <td>2.132254</td>\n",
       "      <td>-0.040519</td>\n",
       "      <td>-2.572362</td>\n",
       "    </tr>\n",
       "    <tr>\n",
       "      <th>(1.326, 3.0948]</th>\n",
       "      <td>100.0</td>\n",
       "      <td>2.641430</td>\n",
       "      <td>0.095187</td>\n",
       "      <td>-2.484897</td>\n",
       "    </tr>\n",
       "  </tbody>\n",
       "</table>\n",
       "</div>"
      ],
      "text/plain": [
       "                    count       max      mean       min\n",
       "data1                                                  \n",
       "[-4.00411, -1.226]  100.0  2.680461 -0.000299 -3.327077\n",
       "(-1.226, -0.819]    100.0  2.552359  0.115165 -2.728303\n",
       "(-0.819, -0.497]    100.0  2.324308  0.014939 -2.554425\n",
       "(-0.497, -0.244]    100.0  2.973440  0.021062 -2.642074\n",
       "(-0.244, 0.0239]    100.0  2.919927 -0.093214 -2.552394\n",
       "(0.0239, 0.29]      100.0  2.879876 -0.091679 -3.325392\n",
       "(0.29, 0.556]       100.0  2.268464 -0.142868 -2.451826\n",
       "(0.556, 0.923]      100.0  2.414165 -0.094693 -1.826911\n",
       "(0.923, 1.326]      100.0  2.132254 -0.040519 -2.572362\n",
       "(1.326, 3.0948]     100.0  2.641430  0.095187 -2.484897"
      ]
     },
     "execution_count": 38,
     "metadata": {},
     "output_type": "execute_result"
    }
   ],
   "source": [
    "grouping = pd.qcut(frame.data1, 10)\n",
    "grouped = frame.data2.groupby(grouping)\n",
    "grouped.apply(get_stats).unstack()"
   ]
  },
  {
   "cell_type": "code",
   "execution_count": null,
   "metadata": {
    "collapsed": true
   },
   "outputs": [],
   "source": []
  }
 ],
 "metadata": {
  "kernelspec": {
   "display_name": "Python 2",
   "language": "python",
   "name": "python2"
  },
  "language_info": {
   "codemirror_mode": {
    "name": "ipython",
    "version": 2
   },
   "file_extension": ".py",
   "mimetype": "text/x-python",
   "name": "python",
   "nbconvert_exporter": "python",
   "pygments_lexer": "ipython2",
   "version": "2.7.12"
  }
 },
 "nbformat": 4,
 "nbformat_minor": 0
}
